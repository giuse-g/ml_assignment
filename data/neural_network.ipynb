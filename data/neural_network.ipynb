{
 "cells": [
  {
   "cell_type": "markdown",
   "metadata": {},
   "source": [
    "# ML assignment neural network"
   ]
  },
  {
   "cell_type": "code",
   "execution_count": 34,
   "metadata": {},
   "outputs": [],
   "source": [
    "import pandas as pd\n",
    "import numpy as np\n",
    "from sklearn.neural_network import MLPClassifier\n",
    "import tensorflow as tf\n",
    "from tensorflow import keras\n",
    "from tensorflow.keras import layers\n",
    "\n",
    "df = pd.read_csv(r\"C:\\Users\\Vincent Lau\\Google Drive\\Quantitative finance\\Machine learning\\ml_assignment\\data\\train.csv\",delimiter=\";\", decimal=\",\")\n",
    "\n",
    "train_df = df.sample(frac=0.6)\n",
    "\n",
    "train_df_x = train_df.iloc[:,1:]\n",
    "train_df_y = train_df.iloc[:,0]\n",
    "\n",
    "test_df = df.drop(train_df.index)\n",
    "\n",
    "test_df_x = test_df.iloc[:,1:]\n",
    "test_df_y = test_df.iloc[:,0]"
   ]
  },
  {
   "cell_type": "code",
   "execution_count": 33,
   "metadata": {},
   "outputs": [
    {
     "name": "stdout",
     "output_type": "stream",
     "text": [
      "0.6197643979057592\n",
      "params: {'activation': 'relu', 'alpha': 0.0001, 'batch_size': 'auto', 'beta_1': 0.9, 'beta_2': 0.999, 'early_stopping': False, 'epsilon': 1e-08, 'hidden_layer_sizes': (100,), 'learning_rate': 'adaptive', 'learning_rate_init': 0.001, 'max_fun': 15000, 'max_iter': 1000, 'momentum': 0.9, 'n_iter_no_change': 10, 'nesterovs_momentum': True, 'power_t': 0.5, 'random_state': None, 'shuffle': True, 'solver': 'sgd', 'tol': 0.0001, 'validation_fraction': 0.1, 'verbose': False, 'warm_start': False}\n"
     ]
    }
   ],
   "source": [
    "clf = MLPClassifier(solver='sgd', activation='relu', hidden_layer_sizes=(100,), learning_rate='adaptive', max_iter=1000)\n",
    "clf.fit(train_df_x, train_df_y)\n",
    "clf.predict(test_df_x)\n",
    "print(clf.score(test_df_x, test_df_y))\n",
    "print('params:',clf.get_params())\n",
    "\n",
    "\n"
   ]
  },
  {
   "cell_type": "code",
   "execution_count": null,
   "metadata": {},
   "outputs": [],
   "source": []
  }
 ],
 "metadata": {
  "kernelspec": {
   "display_name": "Python 3.7.4 ('base')",
   "language": "python",
   "name": "python3"
  },
  "language_info": {
   "codemirror_mode": {
    "name": "ipython",
    "version": 3
   },
   "file_extension": ".py",
   "mimetype": "text/x-python",
   "name": "python",
   "nbconvert_exporter": "python",
   "pygments_lexer": "ipython3",
   "version": "3.7.4"
  },
  "orig_nbformat": 4,
  "vscode": {
   "interpreter": {
    "hash": "e3287018eab28a715ac2d3bda8427d5472ebe3a27bd9fbc15df2d6f618c0bd1b"
   }
  }
 },
 "nbformat": 4,
 "nbformat_minor": 2
}
