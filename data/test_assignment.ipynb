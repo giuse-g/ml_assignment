{
 "cells": [
  {
   "cell_type": "markdown",
   "metadata": {},
   "source": [
    "# Assignment ML"
   ]
  },
  {
   "cell_type": "markdown",
   "metadata": {},
   "source": [
    "## Setup for assignment"
   ]
  },
  {
   "cell_type": "code",
   "execution_count": 12,
   "metadata": {},
   "outputs": [],
   "source": [
    "from random import Random\n",
    "import numpy as np\n",
    "import pandas as pd\n",
    "from sklearn.ensemble import RandomForestClassifier\n",
    "from sklearn.model_selection import GridSearchCV\n",
    "from sklearn.model_selection import RandomizedSearchCV"
   ]
  },
  {
   "cell_type": "code",
   "execution_count": 6,
   "metadata": {},
   "outputs": [],
   "source": [
    "df = pd.read_csv(r\"C:\\Users\\Vincent Lau\\Google Drive\\Quantitative finance\\Machine learning\\ml_assignment\\data\\train.csv\",delimiter=\";\", decimal=\",\")\n"
   ]
  },
  {
   "cell_type": "code",
   "execution_count": 7,
   "metadata": {},
   "outputs": [],
   "source": [
    "from cgi import test\n",
    "\n",
    "\n",
    "train_df = df.sample(frac=0.6)\n",
    "\n",
    "train_df_x = train_df.iloc[:,1:]\n",
    "train_df_y = train_df.iloc[:,0]\n",
    "\n",
    "test_df = df.drop(train_df.index)\n",
    "\n",
    "test_df_x = test_df.iloc[:,1:]\n",
    "test_df_y = test_df.iloc[:,0]"
   ]
  },
  {
   "cell_type": "markdown",
   "metadata": {},
   "source": [
    "## Early Stopping"
   ]
  },
  {
   "cell_type": "code",
   "execution_count": 11,
   "metadata": {},
   "outputs": [
    {
     "name": "stdout",
     "output_type": "stream",
     "text": [
      "Best fraction to stop: 0.4797979797979798\n"
     ]
    }
   ],
   "source": [
    "## Early stopping code\n",
    "early_stopping_value = 0\n",
    "early_stopping_accuracy = 0\n",
    "for i in np.linspace(0.1,0.9,100):\n",
    "    train_df = df.sample(frac=i)\n",
    "    train_df_x = train_df.iloc[:,1:]\n",
    "    train_df_y = train_df.iloc[:,0]\n",
    "\n",
    "    test_df = df.drop(train_df.index)\n",
    "\n",
    "    test_df_x = test_df.iloc[:,1:]\n",
    "    test_df_y = test_df.iloc[:,0]\n",
    "    \n",
    "    clf = RandomForestClassifier(n_estimators=100, criterion=\"gini\", max_depth=None)\n",
    "    clf.fit(train_df_x, train_df_y)\n",
    "\n",
    "\n",
    "    #Predict\n",
    "    clf.predict(test_df_x)\n",
    "    \n",
    "    \n",
    "    if (clf.score(test_df_x,test_df_y) - early_stopping_accuracy > 0.1):\n",
    "        early_stopping_value = i\n",
    "        early_stopping_accuracy = clf.score(test_df_x,test_df_y)\n",
    "    \n",
    "print(\"Best fraction to stop:\", early_stopping_value)    "
   ]
  },
  {
   "cell_type": "markdown",
   "metadata": {},
   "source": [
    "## Tuning parameters"
   ]
  },
  {
   "cell_type": "markdown",
   "metadata": {},
   "source": [
    "### Grid search\n"
   ]
  },
  {
   "cell_type": "code",
   "execution_count": 15,
   "metadata": {},
   "outputs": [
    {
     "data": {
      "text/plain": [
       "RandomizedSearchCV(cv=5, estimator=RandomForestClassifier(), n_iter=100,\n",
       "                   param_distributions={'criterion': ['gini', 'entropy'],\n",
       "                                        'max_depth': [3, 13, 24, 35, 46, 56, 67,\n",
       "                                                      78, 89, 100],\n",
       "                                        'max_features': [5, 21, 37, 53, 70],\n",
       "                                        'min_samples_split': [2, 12, 23, 34, 45,\n",
       "                                                              56, 67, 78, 89,\n",
       "                                                              100],\n",
       "                                        'n_estimators': [100, 109, 118, 127,\n",
       "                                                         136, 145, 154, 163,\n",
       "                                                         172, 181, 190, 200,\n",
       "                                                         209, 218, 227, 236,\n",
       "                                                         245, 254, 263, 272,\n",
       "                                                         281, 290, 300, 309,\n",
       "                                                         318, 327, 336, 345,\n",
       "                                                         354, 363, ...]})"
      ]
     },
     "execution_count": 15,
     "metadata": {},
     "output_type": "execute_result"
    }
   ],
   "source": [
    "train_df = df.sample(frac=0.5)\n",
    "\n",
    "train_df_x = train_df.iloc[:,1:]\n",
    "train_df_y = train_df.iloc[:,0]\n",
    "\n",
    "n_trees = [int(x) for x in np.linspace(start = 100, stop = 1000, num = 100)]\n",
    "max_features = [int(x) for x in np.linspace(start = 5, stop = 70, num = 5)]\n",
    "criterion = ['gini', 'entropy']\n",
    "max_depth = [int(x) for x in np.linspace(start = 3, stop = 100, num = 10)]\n",
    "min_samples_split = [int(x) for x in np.linspace(start = 2, stop = 100, num = 10)]\n",
    "\n",
    "random_grid = {'n_estimators': n_trees,\n",
    "               'max_features': max_features,\n",
    "               'criterion': criterion,\n",
    "               'max_depth': max_depth,\n",
    "               'min_samples_split': min_samples_split}\n",
    "\n",
    "rf = RandomForestClassifier()\n",
    "\n",
    "rf_random = RandomizedSearchCV(estimator = rf, param_distributions= random_grid, n_iter = 100, cv=5)\n",
    "\n",
    "rf_random.fit(train_df_x, train_df_y)"
   ]
  },
  {
   "cell_type": "code",
   "execution_count": 16,
   "metadata": {},
   "outputs": [
    {
     "name": "stdout",
     "output_type": "stream",
     "text": [
      "{'n_estimators': 881, 'min_samples_split': 2, 'max_features': 70, 'max_depth': 78, 'criterion': 'entropy'}\n"
     ]
    }
   ],
   "source": [
    "# Print the randomized grid search parameters\n",
    "# Results: n_estimators = 881, min_samples_split = 2, max_features = 70, max_depth = 78, criterion = entropy\n",
    "print(rf_random.best_params_)"
   ]
  },
  {
   "cell_type": "markdown",
   "metadata": {},
   "source": [
    "### Check for overfitting using the randomized grid search"
   ]
  },
  {
   "cell_type": "code",
   "execution_count": 24,
   "metadata": {},
   "outputs": [
    {
     "name": "stdout",
     "output_type": "stream",
     "text": [
      "rf2: 0.9145942408376964\n",
      "rf3: 0.8843552258346061\n"
     ]
    }
   ],
   "source": [
    "rf2 = RandomForestClassifier(n_estimators=881, min_samples_split=2, max_features=70, max_depth=60, criterion='entropy')\n",
    "rf3 = RandomForestClassifier(n_estimators=881, min_samples_split=2, max_features=70, max_depth=60, criterion='entropy')\n",
    "\n",
    "train_df = df.sample(frac=.6)\n",
    "train_df_x = train_df.iloc[:,1:]\n",
    "train_df_y = train_df.iloc[:,0]\n",
    "\n",
    "test_df = df.drop(train_df.index)\n",
    "\n",
    "test_df_x = test_df.iloc[:,1:]\n",
    "test_df_y = test_df.iloc[:,0]\n",
    "\n",
    "\n",
    "rf2.fit(train_df_x, train_df_y)\n",
    "rf3.fit(test_df_x, test_df_y)\n",
    "\n",
    "#Predict\n",
    "rf2.predict(test_df_x)\n",
    "rf3.predict(train_df_x)\n",
    "print(\"rf2:\",rf2.score(test_df_x,test_df_y))\n",
    "print(\"rf3:\", rf3.score(train_df_x,train_df_y))\n"
   ]
  }
 ],
 "metadata": {
  "kernelspec": {
   "display_name": "Python 3.7.4 ('base')",
   "language": "python",
   "name": "python3"
  },
  "language_info": {
   "codemirror_mode": {
    "name": "ipython",
    "version": 3
   },
   "file_extension": ".py",
   "mimetype": "text/x-python",
   "name": "python",
   "nbconvert_exporter": "python",
   "pygments_lexer": "ipython3",
   "version": "3.7.4"
  },
  "orig_nbformat": 4,
  "vscode": {
   "interpreter": {
    "hash": "e3287018eab28a715ac2d3bda8427d5472ebe3a27bd9fbc15df2d6f618c0bd1b"
   }
  }
 },
 "nbformat": 4,
 "nbformat_minor": 2
}
