{
 "cells": [
  {
   "cell_type": "markdown",
   "metadata": {},
   "source": [
    "# Assignment ML"
   ]
  },
  {
   "cell_type": "code",
   "execution_count": 1,
   "metadata": {},
   "outputs": [],
   "source": [
    "from random import Random\n",
    "import numpy as np\n",
    "import pandas as pd\n",
    "from sklearn.ensemble import RandomForestClassifier\n",
    "from sklearn.model_selection import GridSearchCV"
   ]
  },
  {
   "cell_type": "code",
   "execution_count": 3,
   "metadata": {},
   "outputs": [
    {
     "name": "stdout",
     "output_type": "stream",
     "text": [
      "      target      v2a1  hacdor  rooms  hacapo  v14a  refrig  v18q1  r4h1  \\\n",
      "0          0       0.0       0      4       0     1       1      0     0   \n",
      "1          0       0.0       0      8       0     1       1      1     0   \n",
      "2          0       0.0       0      5       0     1       1      0     0   \n",
      "3          1       0.0       0      8       0     1       1      2     0   \n",
      "4          0  350000.0       0      5       0     1       1      3     1   \n",
      "...      ...       ...     ...    ...     ...   ...     ...    ...   ...   \n",
      "7634       0       0.0       0      8       0     1       1      0     0   \n",
      "7635       0  250000.0       0      5       0     1       1      0     0   \n",
      "7636       0       0.0       0      9       0     1       1      0     0   \n",
      "7637       0       0.0       0      6       0     1       1      0     2   \n",
      "7638       0  150000.0       1      5       1     1       1      1     1   \n",
      "\n",
      "      r4h2  ...  computer  television  qmobilephone  lugar1  lugar2  lugar3  \\\n",
      "0        1  ...         0           0             3       1       0       0   \n",
      "1        1  ...         0           0             3       0       0       0   \n",
      "2        2  ...         0           1             2       0       0       1   \n",
      "3        2  ...         1           1             4       1       0       0   \n",
      "4        1  ...         1           0             3       1       0       0   \n",
      "...    ...  ...       ...         ...           ...     ...     ...     ...   \n",
      "7634     2  ...         0           0             3       0       1       0   \n",
      "7635     3  ...         1           1             4       1       0       0   \n",
      "7636     3  ...         0           0             3       1       0       0   \n",
      "7637     2  ...         1           0             2       0       0       1   \n",
      "7638     5  ...         0           0             8       1       0       0   \n",
      "\n",
      "      lugar4  lugar5  rural  age  \n",
      "0          0       0      1   43  \n",
      "1          0       0      1   18  \n",
      "2          0       0      0   62  \n",
      "3          0       0      0   20  \n",
      "4          0       0      0    3  \n",
      "...      ...     ...    ...  ...  \n",
      "7634       0       0      0    5  \n",
      "7635       0       0      0   63  \n",
      "7636       0       0      0   16  \n",
      "7637       0       0      0   43  \n",
      "7638       0       0      0   21  \n",
      "\n",
      "[7639 rows x 92 columns]\n"
     ]
    }
   ],
   "source": [
    "df = pd.read_csv(r\"C:\\Users\\Vincent Lau\\Google Drive\\Quantitative finance\\Machine learning\\ml_assignment\\data\\train.csv\",delimiter=\";\", decimal=\",\")\n",
    "print(df)"
   ]
  },
  {
   "cell_type": "code",
   "execution_count": 23,
   "metadata": {},
   "outputs": [],
   "source": [
    "from cgi import test\n",
    "\n",
    "\n",
    "train_df = df.sample(frac=0.6)\n",
    "\n",
    "train_df_x = train_df.iloc[:,1:]\n",
    "train_df_y = train_df.iloc[:,0]\n",
    "\n",
    "test_df = df.drop(train_df.index)\n",
    "\n",
    "test_df_x = test_df.iloc[:,1:]\n",
    "test_df_y = test_df.iloc[:,0]"
   ]
  },
  {
   "cell_type": "code",
   "execution_count": 28,
   "metadata": {},
   "outputs": [
    {
     "ename": "TypeError",
     "evalue": "'float' object cannot be interpreted as an integer",
     "output_type": "error",
     "traceback": [
      "\u001b[1;31m---------------------------------------------------------------------------\u001b[0m",
      "\u001b[1;31mTypeError\u001b[0m                                 Traceback (most recent call last)",
      "\u001b[1;32m~\\AppData\\Local\\Temp\\ipykernel_8600\\656223313.py\u001b[0m in \u001b[0;36m<module>\u001b[1;34m\u001b[0m\n\u001b[0;32m      2\u001b[0m \u001b[0mearly_stopping_value\u001b[0m \u001b[1;33m=\u001b[0m \u001b[1;36m0\u001b[0m\u001b[1;33m\u001b[0m\u001b[1;33m\u001b[0m\u001b[0m\n\u001b[0;32m      3\u001b[0m \u001b[0mearly_stopping_accuracy\u001b[0m \u001b[1;33m=\u001b[0m \u001b[1;36m0\u001b[0m\u001b[1;33m\u001b[0m\u001b[1;33m\u001b[0m\u001b[0m\n\u001b[1;32m----> 4\u001b[1;33m \u001b[1;32mfor\u001b[0m \u001b[0mi\u001b[0m \u001b[1;32min\u001b[0m \u001b[0mrange\u001b[0m \u001b[1;33m(\u001b[0m\u001b[1;36m0.5\u001b[0m\u001b[1;33m,\u001b[0m\u001b[1;36m0.9\u001b[0m\u001b[1;33m,\u001b[0m\u001b[1;36m0.01\u001b[0m\u001b[1;33m)\u001b[0m\u001b[1;33m:\u001b[0m\u001b[1;33m\u001b[0m\u001b[1;33m\u001b[0m\u001b[0m\n\u001b[0m\u001b[0;32m      5\u001b[0m     \u001b[0mtrain_df\u001b[0m \u001b[1;33m=\u001b[0m \u001b[0mdf\u001b[0m\u001b[1;33m.\u001b[0m\u001b[0msample\u001b[0m\u001b[1;33m(\u001b[0m\u001b[0mfrac\u001b[0m\u001b[1;33m=\u001b[0m\u001b[0mi\u001b[0m\u001b[1;33m)\u001b[0m\u001b[1;33m\u001b[0m\u001b[1;33m\u001b[0m\u001b[0m\n\u001b[0;32m      6\u001b[0m     \u001b[0mtrain_df_x\u001b[0m \u001b[1;33m=\u001b[0m \u001b[0mtrain_df\u001b[0m\u001b[1;33m.\u001b[0m\u001b[0miloc\u001b[0m\u001b[1;33m[\u001b[0m\u001b[1;33m:\u001b[0m\u001b[1;33m,\u001b[0m\u001b[1;36m1\u001b[0m\u001b[1;33m:\u001b[0m\u001b[1;33m]\u001b[0m\u001b[1;33m\u001b[0m\u001b[1;33m\u001b[0m\u001b[0m\n",
      "\u001b[1;31mTypeError\u001b[0m: 'float' object cannot be interpreted as an integer"
     ]
    }
   ],
   "source": [
    "## Early stopping code\n",
    "early_stopping_value = 0\n",
    "early_stopping_accuracy = 0\n",
    "for i in range (0.5,0.9,0.01):\n",
    "    train_df = df.sample(frac=i)\n",
    "    train_df_x = train_df.iloc[:,1:]\n",
    "    train_df_y = train_df.iloc[:,0]\n",
    "\n",
    "    test_df = df.drop(train_df.index)\n",
    "\n",
    "    test_df_x = test_df.iloc[:,1:]\n",
    "    test_df_y = test_df.iloc[:,0]\n",
    "    \n",
    "    clf = RandomForestClassifier(n_estimators=100, criterion=\"gini\", max_depth=10)\n",
    "    clf.fit(train_df_x, train_df_y)\n",
    "\n",
    "\n",
    "    #Predict\n",
    "    clf.predict(test_df_x)\n",
    "    print(clf.score(test_df_x,test_df_y))\n",
    "    \n",
    "    if (clf.score(test_df_x,test_df_y) - early_stopping_accuracy > 0.1):\n",
    "        early_stopping_value = i\n",
    "    \n",
    "print(\"Best fraction to stop:\", early_stopping_value)    "
   ]
  }
 ],
 "metadata": {
  "kernelspec": {
   "display_name": "Python 3.7.4 ('base')",
   "language": "python",
   "name": "python3"
  },
  "language_info": {
   "codemirror_mode": {
    "name": "ipython",
    "version": 3
   },
   "file_extension": ".py",
   "mimetype": "text/x-python",
   "name": "python",
   "nbconvert_exporter": "python",
   "pygments_lexer": "ipython3",
   "version": "3.7.4"
  },
  "orig_nbformat": 4,
  "vscode": {
   "interpreter": {
    "hash": "e3287018eab28a715ac2d3bda8427d5472ebe3a27bd9fbc15df2d6f618c0bd1b"
   }
  }
 },
 "nbformat": 4,
 "nbformat_minor": 2
}
