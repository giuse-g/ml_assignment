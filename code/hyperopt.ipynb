{
 "cells": [
  {
   "cell_type": "code",
   "execution_count": 1,
   "metadata": {},
   "outputs": [],
   "source": [
    "import pandas as pd\n",
    "import numpy as np\n",
    "from sklearn.ensemble import RandomForestClassifier\n",
    "import matplotlib.pyplot as plt\n",
    "from sklearn.model_selection import GridSearchCV\n",
    "from sklearn.metrics import classification_report, confusion_matrix \n",
    "from pprint import pp\n",
    "from hpsklearn import HyperoptEstimator, any_classifier, any_preprocessing, random_forest_classifier\n",
    "from hyperopt import tpe"
   ]
  },
  {
   "cell_type": "markdown",
   "metadata": {},
   "source": [
    "# Data import en opschonen"
   ]
  },
  {
   "cell_type": "code",
   "execution_count": 2,
   "metadata": {},
   "outputs": [],
   "source": [
    "from sklearn.preprocessing import StandardScaler\n",
    "scaler = StandardScaler()"
   ]
  },
  {
   "cell_type": "code",
   "execution_count": 3,
   "metadata": {},
   "outputs": [],
   "source": [
    "data = pd.read_csv(\"../data/train.csv\", delimiter=';')\n",
    "data[\"overcrowding\"] = data[\"overcrowding\"].str.replace(\",\", \".\").astype(\"float\")\n",
    "data[\"meaneduc\"] = data[\"meaneduc\"].str.replace(\",\", \".\").astype(\"float\")"
   ]
  },
  {
   "cell_type": "code",
   "execution_count": 4,
   "metadata": {},
   "outputs": [],
   "source": [
    "scaler.fit(data)\n",
    "scaled_data = pd.DataFrame(scaler.transform(data), columns=data.columns)\n",
    "\n",
    "\n",
    "X = scaled_data.drop(columns=\"target\")\n",
    "y = data[\"target\"]"
   ]
  },
  {
   "cell_type": "code",
   "execution_count": 20,
   "metadata": {},
   "outputs": [],
   "source": [
    "from sklearn.model_selection import train_test_split\n",
    "train_X, val_X, train_y, val_y = train_test_split(X, y, random_state=1, train_size=0.9)"
   ]
  },
  {
   "cell_type": "markdown",
   "metadata": {},
   "source": [
    "# Hyperoptimisation"
   ]
  },
  {
   "cell_type": "code",
   "execution_count": 21,
   "metadata": {},
   "outputs": [
    {
     "name": "stdout",
     "output_type": "stream",
     "text": [
      "100%|██████████| 1/1 [00:03<00:00,  3.16s/trial, best loss: 0.3083636363636364]\n",
      "100%|██████████| 2/2 [00:01<00:00,  1.24s/trial, best loss: 0.272]\n",
      "100%|██████████| 3/3 [00:01<00:00,  1.15s/trial, best loss: 0.272]\n",
      "100%|██████████| 4/4 [00:03<00:00,  3.02s/trial, best loss: 0.22909090909090912]\n",
      "100%|██████████| 5/5 [01:20<00:00, 80.17s/trial, best loss: 0.08872727272727277]\n",
      "100%|██████████| 6/6 [00:01<00:00,  1.55s/trial, best loss: 0.08872727272727277]\n",
      "100%|██████████| 7/7 [00:11<00:00, 11.23s/trial, best loss: 0.08872727272727277]\n",
      "100%|██████████| 8/8 [00:01<00:00,  1.57s/trial, best loss: 0.08872727272727277]\n",
      "100%|██████████| 9/9 [00:09<00:00,  9.21s/trial, best loss: 0.06254545454545457]\n",
      "100%|██████████| 10/10 [00:01<00:00,  1.18s/trial, best loss: 0.06254545454545457]\n",
      "100%|██████████| 11/11 [00:01<00:00,  1.32s/trial, best loss: 0.06254545454545457]\n",
      "100%|██████████| 12/12 [00:12<00:00, 12.76s/trial, best loss: 0.06254545454545457]\n",
      "100%|██████████| 13/13 [00:02<00:00,  2.45s/trial, best loss: 0.06254545454545457]\n",
      "100%|██████████| 14/14 [00:04<00:00,  4.91s/trial, best loss: 0.06254545454545457]\n",
      "100%|██████████| 15/15 [00:14<00:00, 14.85s/trial, best loss: 0.06254545454545457]\n",
      "100%|██████████| 16/16 [00:02<00:00,  2.31s/trial, best loss: 0.06254545454545457]\n",
      "100%|██████████| 17/17 [00:04<00:00,  4.98s/trial, best loss: 0.06254545454545457]\n",
      "100%|██████████| 18/18 [00:01<00:00,  1.09s/trial, best loss: 0.06254545454545457]\n",
      "100%|██████████| 19/19 [00:01<00:00,  1.21s/trial, best loss: 0.06254545454545457]\n",
      "100%|██████████| 20/20 [00:01<00:00,  1.39s/trial, best loss: 0.06254545454545457]\n",
      "100%|██████████| 21/21 [00:02<00:00,  2.10s/trial, best loss: 0.06254545454545457]\n",
      "100%|██████████| 22/22 [00:02<00:00,  2.35s/trial, best loss: 0.06254545454545457]\n",
      "100%|██████████| 23/23 [00:01<00:00,  1.44s/trial, best loss: 0.06254545454545457]\n",
      "100%|██████████| 24/24 [00:01<00:00,  1.58s/trial, best loss: 0.06254545454545457]\n",
      "100%|██████████| 25/25 [00:01<00:00,  1.65s/trial, best loss: 0.06181818181818177]\n",
      "100%|██████████| 26/26 [00:04<00:00,  4.33s/trial, best loss: 0.06181818181818177]\n",
      "100%|██████████| 27/27 [00:01<00:00,  1.17s/trial, best loss: 0.06181818181818177]\n",
      "100%|██████████| 28/28 [00:01<00:00,  1.67s/trial, best loss: 0.06181818181818177]\n",
      "100%|██████████| 29/29 [00:01<00:00,  1.72s/trial, best loss: 0.06181818181818177]\n",
      "100%|██████████| 30/30 [00:01<00:00,  1.24s/trial, best loss: 0.06181818181818177]\n",
      "100%|██████████| 31/31 [00:01<00:00,  1.13s/trial, best loss: 0.06181818181818177]\n",
      "100%|██████████| 32/32 [00:01<00:00,  1.25s/trial, best loss: 0.06181818181818177]\n",
      "100%|██████████| 33/33 [00:03<00:00,  3.46s/trial, best loss: 0.06181818181818177]\n",
      "100%|██████████| 34/34 [00:01<00:00,  1.23s/trial, best loss: 0.06181818181818177]\n",
      "100%|██████████| 35/35 [00:01<00:00,  1.29s/trial, best loss: 0.06181818181818177]\n",
      "100%|██████████| 36/36 [00:02<00:00,  2.51s/trial, best loss: 0.06181818181818177]\n",
      "100%|██████████| 37/37 [00:01<00:00,  1.40s/trial, best loss: 0.06181818181818177]\n",
      "100%|██████████| 38/38 [00:01<00:00,  1.30s/trial, best loss: 0.06181818181818177]\n",
      "100%|██████████| 39/39 [00:01<00:00,  1.88s/trial, best loss: 0.06181818181818177]\n",
      "100%|██████████| 40/40 [00:01<00:00,  1.14s/trial, best loss: 0.06181818181818177]\n",
      "0.9568062827225131\n",
      "RandomForestClassifier(bootstrap=False, class_weight='balanced',\n",
      "                       n_estimators=102, n_jobs=1, random_state=2,\n",
      "                       verbose=False)\n"
     ]
    }
   ],
   "source": [
    "# Instantiate a HyperoptEstimator with the search space and number of evaluations\n",
    "estim = HyperoptEstimator(classifier=random_forest_classifier(\"my_clf\"),\n",
    "                            preprocessing=[],\n",
    "                            algo=tpe.suggest,\n",
    "                            max_evals=40,\n",
    "                            trial_timeout=120)\n",
    "\n",
    "# Search the hyperparameter space based on the data\n",
    "estim.fit(train_X, train_y)\n",
    "\n",
    "# Show the results\n",
    "print(estim.score(val_X, val_y))\n",
    "# 1.0\n",
    "\n",
    "print(estim.best_model()['learner'])"
   ]
  }
 ],
 "metadata": {
  "kernelspec": {
   "display_name": "Python 3.10.6 ('ml')",
   "language": "python",
   "name": "python3"
  },
  "language_info": {
   "codemirror_mode": {
    "name": "ipython",
    "version": 3
   },
   "file_extension": ".py",
   "mimetype": "text/x-python",
   "name": "python",
   "nbconvert_exporter": "python",
   "pygments_lexer": "ipython3",
   "version": "3.10.6"
  },
  "orig_nbformat": 4,
  "vscode": {
   "interpreter": {
    "hash": "a976307fc80a44cf22a4936f5a7df9fa98f37fcee6a4ae7bae4074a33156469b"
   }
  }
 },
 "nbformat": 4,
 "nbformat_minor": 2
}
