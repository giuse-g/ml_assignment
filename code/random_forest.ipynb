{
 "cells": [
  {
   "cell_type": "code",
   "execution_count": 1,
   "metadata": {},
   "outputs": [],
   "source": [
    "import pandas as pd\n",
    "import numpy as np\n",
    "from sklearn.ensemble import RandomForestClassifier\n",
    "import matplotlib.pyplot as plt\n",
    "from sklearn.model_selection import GridSearchCV\n",
    "from sklearn.metrics import classification_report, confusion_matrix \n",
    "from pprint import pp"
   ]
  },
  {
   "cell_type": "markdown",
   "metadata": {},
   "source": [
    "# Data import en opschonen"
   ]
  },
  {
   "cell_type": "code",
   "execution_count": 2,
   "metadata": {},
   "outputs": [],
   "source": [
    "data = pd.read_csv(\"../data/train.csv\", delimiter=';')\n",
    "data[\"overcrowding\"] = data[\"overcrowding\"].str.replace(\",\", \".\").astype(\"float\")\n",
    "data[\"meaneduc\"] = data[\"meaneduc\"].str.replace(\",\", \".\").astype(\"float\")"
   ]
  },
  {
   "cell_type": "code",
   "execution_count": 3,
   "metadata": {},
   "outputs": [],
   "source": [
    "X = data.drop(columns=\"target\")\n",
    "y = data[\"target\"]"
   ]
  },
  {
   "cell_type": "code",
   "execution_count": 4,
   "metadata": {},
   "outputs": [],
   "source": [
    "from sklearn.model_selection import train_test_split\n",
    "train_X, val_X, train_y, val_y = train_test_split(X, y, random_state=1, train_size=0.7)"
   ]
  },
  {
   "cell_type": "markdown",
   "metadata": {},
   "source": [
    "# 1x Random Forest trainen"
   ]
  },
  {
   "cell_type": "code",
   "execution_count": 20,
   "metadata": {},
   "outputs": [],
   "source": [
    "# clf = RandomForestClassifier(n_estimators=500, max_depth=20, min_samples_leaf=10, n_jobs=-1, ccp_alpha=0.5, max_features=50)\n",
    "params = {\n",
    "    'n_estimators': 775,\n",
    "    'min_samples_split': 2,\n",
    "    'max_features': 50,\n",
    "    'max_depth': 41,\n",
    "    'criterion': 'entropy'\n",
    "    }\n",
    "\n",
    "clf = RandomForestClassifier(**params, n_jobs=-1, random_state=1)\n",
    "clf = clf.fit(train_X, train_y)"
   ]
  },
  {
   "cell_type": "code",
   "execution_count": 21,
   "metadata": {},
   "outputs": [
    {
     "data": {
      "text/plain": [
       "0.9384816753926701"
      ]
     },
     "execution_count": 21,
     "metadata": {},
     "output_type": "execute_result"
    }
   ],
   "source": [
    "clf.score(val_X, val_y)"
   ]
  },
  {
   "cell_type": "markdown",
   "metadata": {},
   "source": [
    "# Hyper parameter estimation"
   ]
  },
  {
   "cell_type": "code",
   "execution_count": 9,
   "metadata": {},
   "outputs": [],
   "source": [
    "from sklearn.model_selection import GridSearchCV, RandomizedSearchCV\n",
    "\n",
    "# n_trees = [int(x) for x in np.linspace(start = 775, stop = 900, num = 10)]\n",
    "# max_depth = [int(x) for x in np.linspace(start = 15, stop = 50, num = 5)]\n",
    "# min_samples_split = [int(x) for x in np.linspace(start = 2, stop = 15, num = 5)]\n",
    "# max_features = [int(x) for x in np.linspace(start = 20, stop = 50, num = 5)]\n",
    "# criterion = ['gini', 'entropy']\n",
    "\n",
    "n_trees = [775]\n",
    "max_depth = [41]\n",
    "min_samples_split = [2]\n",
    "max_features = [int(x) for x in np.arange(1,90)]\n",
    "criterion = ['entropy']\n",
    "\n",
    "param_grid = [\n",
    "    {\n",
    "        'n_estimators': n_trees,\n",
    "        'max_depth': max_depth,\n",
    "        'min_samples_split': min_samples_split,\n",
    "        'max_features':max_features, \n",
    "        'criterion': criterion,\n",
    "        'random_state': [1]\n",
    "    },\n",
    "]\n",
    "\n",
    "# grid = RandomizedSearchCV(RandomForestClassifier(), param_grid, refit = True, n_jobs=-1, cv=5, n_iter=100, verbose=0, random_state=1) \n",
    "grid = GridSearchCV(RandomForestClassifier(), param_grid, refit = True, n_jobs=-1, cv=5, verbose=3) "
   ]
  },
  {
   "cell_type": "code",
   "execution_count": 10,
   "metadata": {},
   "outputs": [
    {
     "name": "stdout",
     "output_type": "stream",
     "text": [
      "Fitting 5 folds for each of 89 candidates, totalling 445 fits\n"
     ]
    },
    {
     "data": {
      "text/html": [
       "<style>#sk-container-id-2 {color: black;background-color: white;}#sk-container-id-2 pre{padding: 0;}#sk-container-id-2 div.sk-toggleable {background-color: white;}#sk-container-id-2 label.sk-toggleable__label {cursor: pointer;display: block;width: 100%;margin-bottom: 0;padding: 0.3em;box-sizing: border-box;text-align: center;}#sk-container-id-2 label.sk-toggleable__label-arrow:before {content: \"▸\";float: left;margin-right: 0.25em;color: #696969;}#sk-container-id-2 label.sk-toggleable__label-arrow:hover:before {color: black;}#sk-container-id-2 div.sk-estimator:hover label.sk-toggleable__label-arrow:before {color: black;}#sk-container-id-2 div.sk-toggleable__content {max-height: 0;max-width: 0;overflow: hidden;text-align: left;background-color: #f0f8ff;}#sk-container-id-2 div.sk-toggleable__content pre {margin: 0.2em;color: black;border-radius: 0.25em;background-color: #f0f8ff;}#sk-container-id-2 input.sk-toggleable__control:checked~div.sk-toggleable__content {max-height: 200px;max-width: 100%;overflow: auto;}#sk-container-id-2 input.sk-toggleable__control:checked~label.sk-toggleable__label-arrow:before {content: \"▾\";}#sk-container-id-2 div.sk-estimator input.sk-toggleable__control:checked~label.sk-toggleable__label {background-color: #d4ebff;}#sk-container-id-2 div.sk-label input.sk-toggleable__control:checked~label.sk-toggleable__label {background-color: #d4ebff;}#sk-container-id-2 input.sk-hidden--visually {border: 0;clip: rect(1px 1px 1px 1px);clip: rect(1px, 1px, 1px, 1px);height: 1px;margin: -1px;overflow: hidden;padding: 0;position: absolute;width: 1px;}#sk-container-id-2 div.sk-estimator {font-family: monospace;background-color: #f0f8ff;border: 1px dotted black;border-radius: 0.25em;box-sizing: border-box;margin-bottom: 0.5em;}#sk-container-id-2 div.sk-estimator:hover {background-color: #d4ebff;}#sk-container-id-2 div.sk-parallel-item::after {content: \"\";width: 100%;border-bottom: 1px solid gray;flex-grow: 1;}#sk-container-id-2 div.sk-label:hover label.sk-toggleable__label {background-color: #d4ebff;}#sk-container-id-2 div.sk-serial::before {content: \"\";position: absolute;border-left: 1px solid gray;box-sizing: border-box;top: 0;bottom: 0;left: 50%;z-index: 0;}#sk-container-id-2 div.sk-serial {display: flex;flex-direction: column;align-items: center;background-color: white;padding-right: 0.2em;padding-left: 0.2em;position: relative;}#sk-container-id-2 div.sk-item {position: relative;z-index: 1;}#sk-container-id-2 div.sk-parallel {display: flex;align-items: stretch;justify-content: center;background-color: white;position: relative;}#sk-container-id-2 div.sk-item::before, #sk-container-id-2 div.sk-parallel-item::before {content: \"\";position: absolute;border-left: 1px solid gray;box-sizing: border-box;top: 0;bottom: 0;left: 50%;z-index: -1;}#sk-container-id-2 div.sk-parallel-item {display: flex;flex-direction: column;z-index: 1;position: relative;background-color: white;}#sk-container-id-2 div.sk-parallel-item:first-child::after {align-self: flex-end;width: 50%;}#sk-container-id-2 div.sk-parallel-item:last-child::after {align-self: flex-start;width: 50%;}#sk-container-id-2 div.sk-parallel-item:only-child::after {width: 0;}#sk-container-id-2 div.sk-dashed-wrapped {border: 1px dashed gray;margin: 0 0.4em 0.5em 0.4em;box-sizing: border-box;padding-bottom: 0.4em;background-color: white;}#sk-container-id-2 div.sk-label label {font-family: monospace;font-weight: bold;display: inline-block;line-height: 1.2em;}#sk-container-id-2 div.sk-label-container {text-align: center;}#sk-container-id-2 div.sk-container {/* jupyter's `normalize.less` sets `[hidden] { display: none; }` but bootstrap.min.css set `[hidden] { display: none !important; }` so we also need the `!important` here to be able to override the default hidden behavior on the sphinx rendered scikit-learn.org. See: https://github.com/scikit-learn/scikit-learn/issues/21755 */display: inline-block !important;position: relative;}#sk-container-id-2 div.sk-text-repr-fallback {display: none;}</style><div id=\"sk-container-id-2\" class=\"sk-top-container\"><div class=\"sk-text-repr-fallback\"><pre>GridSearchCV(cv=5, estimator=RandomForestClassifier(), n_jobs=-1,\n",
       "             param_grid=[{&#x27;criterion&#x27;: [&#x27;entropy&#x27;], &#x27;max_depth&#x27;: [41],\n",
       "                          &#x27;max_features&#x27;: [1, 2, 3, 4, 5, 6, 7, 8, 9, 10, 11,\n",
       "                                           12, 13, 14, 15, 16, 17, 18, 19, 20,\n",
       "                                           21, 22, 23, 24, 25, 26, 27, 28, 29,\n",
       "                                           30, ...],\n",
       "                          &#x27;min_samples_split&#x27;: [2], &#x27;n_estimators&#x27;: [775]}],\n",
       "             verbose=3)</pre><b>In a Jupyter environment, please rerun this cell to show the HTML representation or trust the notebook. <br />On GitHub, the HTML representation is unable to render, please try loading this page with nbviewer.org.</b></div><div class=\"sk-container\" hidden><div class=\"sk-item sk-dashed-wrapped\"><div class=\"sk-label-container\"><div class=\"sk-label sk-toggleable\"><input class=\"sk-toggleable__control sk-hidden--visually\" id=\"sk-estimator-id-4\" type=\"checkbox\" ><label for=\"sk-estimator-id-4\" class=\"sk-toggleable__label sk-toggleable__label-arrow\">GridSearchCV</label><div class=\"sk-toggleable__content\"><pre>GridSearchCV(cv=5, estimator=RandomForestClassifier(), n_jobs=-1,\n",
       "             param_grid=[{&#x27;criterion&#x27;: [&#x27;entropy&#x27;], &#x27;max_depth&#x27;: [41],\n",
       "                          &#x27;max_features&#x27;: [1, 2, 3, 4, 5, 6, 7, 8, 9, 10, 11,\n",
       "                                           12, 13, 14, 15, 16, 17, 18, 19, 20,\n",
       "                                           21, 22, 23, 24, 25, 26, 27, 28, 29,\n",
       "                                           30, ...],\n",
       "                          &#x27;min_samples_split&#x27;: [2], &#x27;n_estimators&#x27;: [775]}],\n",
       "             verbose=3)</pre></div></div></div><div class=\"sk-parallel\"><div class=\"sk-parallel-item\"><div class=\"sk-item\"><div class=\"sk-label-container\"><div class=\"sk-label sk-toggleable\"><input class=\"sk-toggleable__control sk-hidden--visually\" id=\"sk-estimator-id-5\" type=\"checkbox\" ><label for=\"sk-estimator-id-5\" class=\"sk-toggleable__label sk-toggleable__label-arrow\">estimator: RandomForestClassifier</label><div class=\"sk-toggleable__content\"><pre>RandomForestClassifier()</pre></div></div></div><div class=\"sk-serial\"><div class=\"sk-item\"><div class=\"sk-estimator sk-toggleable\"><input class=\"sk-toggleable__control sk-hidden--visually\" id=\"sk-estimator-id-6\" type=\"checkbox\" ><label for=\"sk-estimator-id-6\" class=\"sk-toggleable__label sk-toggleable__label-arrow\">RandomForestClassifier</label><div class=\"sk-toggleable__content\"><pre>RandomForestClassifier()</pre></div></div></div></div></div></div></div></div></div></div>"
      ],
      "text/plain": [
       "GridSearchCV(cv=5, estimator=RandomForestClassifier(), n_jobs=-1,\n",
       "             param_grid=[{'criterion': ['entropy'], 'max_depth': [41],\n",
       "                          'max_features': [1, 2, 3, 4, 5, 6, 7, 8, 9, 10, 11,\n",
       "                                           12, 13, 14, 15, 16, 17, 18, 19, 20,\n",
       "                                           21, 22, 23, 24, 25, 26, 27, 28, 29,\n",
       "                                           30, ...],\n",
       "                          'min_samples_split': [2], 'n_estimators': [775]}],\n",
       "             verbose=3)"
      ]
     },
     "execution_count": 10,
     "metadata": {},
     "output_type": "execute_result"
    }
   ],
   "source": [
    "# fitting the model for grid search \n",
    "grid.fit(train_X, train_y) "
   ]
  },
  {
   "cell_type": "code",
   "execution_count": 11,
   "metadata": {},
   "outputs": [
    {
     "name": "stdout",
     "output_type": "stream",
     "text": [
      "{'criterion': 'entropy',\n",
      " 'max_depth': 41,\n",
      " 'max_features': 86,\n",
      " 'min_samples_split': 2,\n",
      " 'n_estimators': 775}\n",
      "\n",
      "______________________________________________________\n",
      "Classification report: \n",
      "              precision    recall  f1-score   support\n",
      "\n",
      "           0       0.95      0.96      0.95      1467\n",
      "           1       0.92      0.92      0.92       825\n",
      "\n",
      "    accuracy                           0.94      2292\n",
      "   macro avg       0.94      0.94      0.94      2292\n",
      "weighted avg       0.94      0.94      0.94      2292\n",
      "\n"
     ]
    }
   ],
   "source": [
    "# print best parameter after tuning \n",
    "pp(grid.best_params_) \n",
    "grid_predictions = grid.predict(val_X) \n",
    "\n",
    "# print classification report \n",
    "print(\"\\n______________________________________________________\")\n",
    "print(\"Classification report: \\n\" + classification_report(val_y, grid_predictions)) "
   ]
  },
  {
   "cell_type": "markdown",
   "metadata": {},
   "source": [
    "## Model overfitting analysis"
   ]
  },
  {
   "cell_type": "code",
   "execution_count": 22,
   "metadata": {},
   "outputs": [],
   "source": [
    "# clf = RandomForestClassifier(n_estimators=500, max_depth=20, min_samples_leaf=10, n_jobs=-1, ccp_alpha=0.5, max_features=50)\n",
    "train_score, val_score = [], []\n",
    "depths = np.arange(1, 40)\n",
    "for depth in depths:\n",
    "    params = {\n",
    "        'n_estimators': 775,\n",
    "        'min_samples_split': 2,\n",
    "        'max_features': 50,\n",
    "        'max_depth': depth,\n",
    "        'criterion': 'entropy'\n",
    "        }\n",
    "    clf = RandomForestClassifier(**params, n_jobs=-1, random_state=1)\n",
    "    clf = clf.fit(train_X, train_y)\n",
    "    train_score.append(clf.score(train_X, train_y))\n",
    "    val_score.append(clf.score(val_X, val_y))"
   ]
  },
  {
   "cell_type": "code",
   "execution_count": 23,
   "metadata": {},
   "outputs": [
    {
     "name": "stderr",
     "output_type": "stream",
     "text": [
      "The PostScript backend does not support transparency; partially transparent artists will be rendered opaque.\n"
     ]
    },
    {
     "data": {
      "image/png": "[encoded data removed]",
      "text/plain": [
       "<Figure size 640x480 with 1 Axes>"
      ]
     },
     "metadata": {},
     "output_type": "display_data"
    }
   ],
   "source": [
    "plt.plot(depths, train_score, '-o', label='Train')\n",
    "plt.plot(depths, val_score, '-o', label='Validation')\n",
    "plt.legend()\n",
    "plt.xlabel(\"Tree depth\")\n",
    "plt.ylabel(\"Score\")\n",
    "plt.savefig(\"../img/overfit_plot.eps\")\n",
    "plt.show()"
   ]
  },
  {
   "cell_type": "code",
   "execution_count": null,
   "metadata": {},
   "outputs": [],
   "source": []
  }
 ],
 "metadata": {
  "kernelspec": {
   "display_name": "Python 3.10.6 ('ml')",
   "language": "python",
   "name": "python3"
  },
  "language_info": {
   "codemirror_mode": {
    "name": "ipython",
    "version": 3
   },
   "file_extension": ".py",
   "mimetype": "text/x-python",
   "name": "python",
   "nbconvert_exporter": "python",
   "pygments_lexer": "ipython3",
   "version": "3.10.6"
  },
  "orig_nbformat": 4,
  "vscode": {
   "interpreter": {
    "hash": "a976307fc80a44cf22a4936f5a7df9fa98f37fcee6a4ae7bae4074a33156469b"
   }
  }
 },
 "nbformat": 4,
 "nbformat_minor": 2
}
