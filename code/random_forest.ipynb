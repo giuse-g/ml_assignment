{
 "cells": [
  {
   "cell_type": "code",
   "execution_count": 79,
   "metadata": {},
   "outputs": [],
   "source": [
    "import pandas as pd\n",
    "import numpy as np\n",
    "from sklearn.ensemble import RandomForestClassifier\n",
    "import matplotlib.pyplot as plt\n",
    "from sklearn.model_selection import GridSearchCV\n",
    "from sklearn.metrics import classification_report, confusion_matrix "
   ]
  },
  {
   "cell_type": "markdown",
   "metadata": {},
   "source": [
    "# Data import en opschonen"
   ]
  },
  {
   "cell_type": "code",
   "execution_count": 51,
   "metadata": {},
   "outputs": [],
   "source": [
    "train = pd.read_csv(\"../data/train.csv\", delimiter=';')"
   ]
  },
  {
   "cell_type": "code",
   "execution_count": 52,
   "metadata": {},
   "outputs": [
    {
     "name": "stdout",
     "output_type": "stream",
     "text": [
      "<class 'pandas.core.frame.DataFrame'>\n",
      "RangeIndex: 7639 entries, 0 to 7638\n",
      "Data columns (total 92 columns):\n",
      " #   Column         Non-Null Count  Dtype  \n",
      "---  ------         --------------  -----  \n",
      " 0   target         7639 non-null   int64  \n",
      " 1   v2a1           7639 non-null   float64\n",
      " 2   hacdor         7639 non-null   int64  \n",
      " 3   rooms          7639 non-null   int64  \n",
      " 4   hacapo         7639 non-null   int64  \n",
      " 5   v14a           7639 non-null   int64  \n",
      " 6   refrig         7639 non-null   int64  \n",
      " 7   v18q1          7639 non-null   int64  \n",
      " 8   r4h1           7639 non-null   int64  \n",
      " 9   r4h2           7639 non-null   int64  \n",
      " 10  r4m1           7639 non-null   int64  \n",
      " 11  r4m2           7639 non-null   int64  \n",
      " 12  escolari       7639 non-null   int64  \n",
      " 13  pared1         7639 non-null   int64  \n",
      " 14  pared2         7639 non-null   int64  \n",
      " 15  pared3         7639 non-null   int64  \n",
      " 16  pared4         7639 non-null   int64  \n",
      " 17  pared5         7639 non-null   int64  \n",
      " 18  pared6         7639 non-null   int64  \n",
      " 19  pared7         7639 non-null   int64  \n",
      " 20  piso1          7639 non-null   int64  \n",
      " 21  piso2          7639 non-null   int64  \n",
      " 22  piso3          7639 non-null   int64  \n",
      " 23  techo1         7639 non-null   int64  \n",
      " 24  techo2         7639 non-null   int64  \n",
      " 25  cielorazo      7639 non-null   int64  \n",
      " 26  water          7639 non-null   int64  \n",
      " 27  electro1       7639 non-null   int64  \n",
      " 28  electro2       7639 non-null   int64  \n",
      " 29  electro3       7639 non-null   int64  \n",
      " 30  sanitario1     7639 non-null   int64  \n",
      " 31  sanitario2     7639 non-null   int64  \n",
      " 32  sanitario3     7639 non-null   int64  \n",
      " 33  energcocinar1  7639 non-null   int64  \n",
      " 34  energcocinar2  7639 non-null   int64  \n",
      " 35  energcocinar3  7639 non-null   int64  \n",
      " 36  elimbasu1      7639 non-null   int64  \n",
      " 37  elimbasu2      7639 non-null   int64  \n",
      " 38  elimbasu3      7639 non-null   int64  \n",
      " 39  epared1        7639 non-null   int64  \n",
      " 40  epared2        7639 non-null   int64  \n",
      " 41  etecho1        7639 non-null   int64  \n",
      " 42  etecho2        7639 non-null   int64  \n",
      " 43  eviv1          7639 non-null   int64  \n",
      " 44  eviv2          7639 non-null   int64  \n",
      " 45  dis            7639 non-null   int64  \n",
      " 46  female         7639 non-null   int64  \n",
      " 47  estadocivil1   7639 non-null   int64  \n",
      " 48  estadocivil2   7639 non-null   int64  \n",
      " 49  estadocivil3   7639 non-null   int64  \n",
      " 50  estadocivil4   7639 non-null   int64  \n",
      " 51  estadocivil5   7639 non-null   int64  \n",
      " 52  estadocivil6   7639 non-null   int64  \n",
      " 53  parentesco1    7639 non-null   int64  \n",
      " 54  parentesco2    7639 non-null   int64  \n",
      " 55  parentesco3    7639 non-null   int64  \n",
      " 56  parentesco4    7639 non-null   int64  \n",
      " 57  parentesco5    7639 non-null   int64  \n",
      " 58  parentesco6    7639 non-null   int64  \n",
      " 59  parentesco7    7639 non-null   int64  \n",
      " 60  parentesco8    7639 non-null   int64  \n",
      " 61  parentesco9    7639 non-null   int64  \n",
      " 62  parentesco10   7639 non-null   int64  \n",
      " 63  parentesco11   7639 non-null   int64  \n",
      " 64  hogar_nin      7639 non-null   int64  \n",
      " 65  hogar_adul     7639 non-null   int64  \n",
      " 66  hogar_mayor    7639 non-null   int64  \n",
      " 67  meaneduc       7639 non-null   object \n",
      " 68  instlevel1     7639 non-null   int64  \n",
      " 69  instlevel2     7639 non-null   int64  \n",
      " 70  instlevel3     7639 non-null   int64  \n",
      " 71  instlevel4     7639 non-null   int64  \n",
      " 72  instlevel5     7639 non-null   int64  \n",
      " 73  instlevel6     7639 non-null   int64  \n",
      " 74  instlevel7     7639 non-null   int64  \n",
      " 75  instlevel8     7639 non-null   int64  \n",
      " 76  bedrooms       7639 non-null   int64  \n",
      " 77  overcrowding   7639 non-null   object \n",
      " 78  tipovivi1      7639 non-null   int64  \n",
      " 79  tipovivi2      7639 non-null   int64  \n",
      " 80  tipovivi3      7639 non-null   int64  \n",
      " 81  tipovivi4      7639 non-null   int64  \n",
      " 82  computer       7639 non-null   int64  \n",
      " 83  television     7639 non-null   int64  \n",
      " 84  qmobilephone   7639 non-null   int64  \n",
      " 85  lugar1         7639 non-null   int64  \n",
      " 86  lugar2         7639 non-null   int64  \n",
      " 87  lugar3         7639 non-null   int64  \n",
      " 88  lugar4         7639 non-null   int64  \n",
      " 89  lugar5         7639 non-null   int64  \n",
      " 90  rural          7639 non-null   int64  \n",
      " 91  age            7639 non-null   int64  \n",
      "dtypes: float64(1), int64(89), object(2)\n",
      "memory usage: 5.4+ MB\n"
     ]
    }
   ],
   "source": [
    "train.info()"
   ]
  },
  {
   "cell_type": "code",
   "execution_count": 53,
   "metadata": {},
   "outputs": [
    {
     "data": {
      "text/html": [
       "<div>\n",
       "<style scoped>\n",
       "    .dataframe tbody tr th:only-of-type {\n",
       "        vertical-align: middle;\n",
       "    }\n",
       "\n",
       "    .dataframe tbody tr th {\n",
       "        vertical-align: top;\n",
       "    }\n",
       "\n",
       "    .dataframe thead th {\n",
       "        text-align: right;\n",
       "    }\n",
       "</style>\n",
       "<table border=\"1\" class=\"dataframe\">\n",
       "  <thead>\n",
       "    <tr style=\"text-align: right;\">\n",
       "      <th></th>\n",
       "      <th>target</th>\n",
       "      <th>v2a1</th>\n",
       "      <th>hacdor</th>\n",
       "      <th>rooms</th>\n",
       "      <th>hacapo</th>\n",
       "      <th>v14a</th>\n",
       "      <th>refrig</th>\n",
       "      <th>v18q1</th>\n",
       "      <th>r4h1</th>\n",
       "      <th>r4h2</th>\n",
       "      <th>...</th>\n",
       "      <th>computer</th>\n",
       "      <th>television</th>\n",
       "      <th>qmobilephone</th>\n",
       "      <th>lugar1</th>\n",
       "      <th>lugar2</th>\n",
       "      <th>lugar3</th>\n",
       "      <th>lugar4</th>\n",
       "      <th>lugar5</th>\n",
       "      <th>rural</th>\n",
       "      <th>age</th>\n",
       "    </tr>\n",
       "  </thead>\n",
       "  <tbody>\n",
       "    <tr>\n",
       "      <th>0</th>\n",
       "      <td>0</td>\n",
       "      <td>0.0</td>\n",
       "      <td>0</td>\n",
       "      <td>4</td>\n",
       "      <td>0</td>\n",
       "      <td>1</td>\n",
       "      <td>1</td>\n",
       "      <td>0</td>\n",
       "      <td>0</td>\n",
       "      <td>1</td>\n",
       "      <td>...</td>\n",
       "      <td>0</td>\n",
       "      <td>0</td>\n",
       "      <td>3</td>\n",
       "      <td>1</td>\n",
       "      <td>0</td>\n",
       "      <td>0</td>\n",
       "      <td>0</td>\n",
       "      <td>0</td>\n",
       "      <td>1</td>\n",
       "      <td>43</td>\n",
       "    </tr>\n",
       "    <tr>\n",
       "      <th>1</th>\n",
       "      <td>0</td>\n",
       "      <td>0.0</td>\n",
       "      <td>0</td>\n",
       "      <td>8</td>\n",
       "      <td>0</td>\n",
       "      <td>1</td>\n",
       "      <td>1</td>\n",
       "      <td>1</td>\n",
       "      <td>0</td>\n",
       "      <td>1</td>\n",
       "      <td>...</td>\n",
       "      <td>0</td>\n",
       "      <td>0</td>\n",
       "      <td>3</td>\n",
       "      <td>0</td>\n",
       "      <td>0</td>\n",
       "      <td>0</td>\n",
       "      <td>0</td>\n",
       "      <td>0</td>\n",
       "      <td>1</td>\n",
       "      <td>18</td>\n",
       "    </tr>\n",
       "    <tr>\n",
       "      <th>2</th>\n",
       "      <td>0</td>\n",
       "      <td>0.0</td>\n",
       "      <td>0</td>\n",
       "      <td>5</td>\n",
       "      <td>0</td>\n",
       "      <td>1</td>\n",
       "      <td>1</td>\n",
       "      <td>0</td>\n",
       "      <td>0</td>\n",
       "      <td>2</td>\n",
       "      <td>...</td>\n",
       "      <td>0</td>\n",
       "      <td>1</td>\n",
       "      <td>2</td>\n",
       "      <td>0</td>\n",
       "      <td>0</td>\n",
       "      <td>1</td>\n",
       "      <td>0</td>\n",
       "      <td>0</td>\n",
       "      <td>0</td>\n",
       "      <td>62</td>\n",
       "    </tr>\n",
       "    <tr>\n",
       "      <th>3</th>\n",
       "      <td>1</td>\n",
       "      <td>0.0</td>\n",
       "      <td>0</td>\n",
       "      <td>8</td>\n",
       "      <td>0</td>\n",
       "      <td>1</td>\n",
       "      <td>1</td>\n",
       "      <td>2</td>\n",
       "      <td>0</td>\n",
       "      <td>2</td>\n",
       "      <td>...</td>\n",
       "      <td>1</td>\n",
       "      <td>1</td>\n",
       "      <td>4</td>\n",
       "      <td>1</td>\n",
       "      <td>0</td>\n",
       "      <td>0</td>\n",
       "      <td>0</td>\n",
       "      <td>0</td>\n",
       "      <td>0</td>\n",
       "      <td>20</td>\n",
       "    </tr>\n",
       "    <tr>\n",
       "      <th>4</th>\n",
       "      <td>0</td>\n",
       "      <td>350000.0</td>\n",
       "      <td>0</td>\n",
       "      <td>5</td>\n",
       "      <td>0</td>\n",
       "      <td>1</td>\n",
       "      <td>1</td>\n",
       "      <td>3</td>\n",
       "      <td>1</td>\n",
       "      <td>1</td>\n",
       "      <td>...</td>\n",
       "      <td>1</td>\n",
       "      <td>0</td>\n",
       "      <td>3</td>\n",
       "      <td>1</td>\n",
       "      <td>0</td>\n",
       "      <td>0</td>\n",
       "      <td>0</td>\n",
       "      <td>0</td>\n",
       "      <td>0</td>\n",
       "      <td>3</td>\n",
       "    </tr>\n",
       "  </tbody>\n",
       "</table>\n",
       "<p>5 rows × 92 columns</p>\n",
       "</div>"
      ],
      "text/plain": [
       "   target      v2a1  hacdor  rooms  hacapo  v14a  refrig  v18q1  r4h1  r4h2  \\\n",
       "0       0       0.0       0      4       0     1       1      0     0     1   \n",
       "1       0       0.0       0      8       0     1       1      1     0     1   \n",
       "2       0       0.0       0      5       0     1       1      0     0     2   \n",
       "3       1       0.0       0      8       0     1       1      2     0     2   \n",
       "4       0  350000.0       0      5       0     1       1      3     1     1   \n",
       "\n",
       "   ...  computer  television  qmobilephone  lugar1  lugar2  lugar3  lugar4  \\\n",
       "0  ...         0           0             3       1       0       0       0   \n",
       "1  ...         0           0             3       0       0       0       0   \n",
       "2  ...         0           1             2       0       0       1       0   \n",
       "3  ...         1           1             4       1       0       0       0   \n",
       "4  ...         1           0             3       1       0       0       0   \n",
       "\n",
       "   lugar5  rural  age  \n",
       "0       0      1   43  \n",
       "1       0      1   18  \n",
       "2       0      0   62  \n",
       "3       0      0   20  \n",
       "4       0      0    3  \n",
       "\n",
       "[5 rows x 92 columns]"
      ]
     },
     "execution_count": 53,
     "metadata": {},
     "output_type": "execute_result"
    }
   ],
   "source": [
    "train.head()"
   ]
  },
  {
   "cell_type": "code",
   "execution_count": 54,
   "metadata": {},
   "outputs": [],
   "source": [
    "train[\"overcrowding\"] = train[\"overcrowding\"].str.replace(\",\", \".\").astype(\"float\")\n",
    "train[\"meaneduc\"] = train[\"meaneduc\"].str.replace(\",\", \".\").astype(\"float\")"
   ]
  },
  {
   "cell_type": "code",
   "execution_count": 55,
   "metadata": {},
   "outputs": [],
   "source": [
    "test = train.sample(frac=0.2)\n",
    "train = train.drop(test.index)"
   ]
  },
  {
   "cell_type": "markdown",
   "metadata": {},
   "source": [
    "# Random Forest trainen"
   ]
  },
  {
   "cell_type": "code",
   "execution_count": 56,
   "metadata": {},
   "outputs": [],
   "source": [
    "X = train.drop(columns=\"target\")\n",
    "Y = train[\"target\"]"
   ]
  },
  {
   "cell_type": "code",
   "execution_count": 57,
   "metadata": {},
   "outputs": [],
   "source": [
    "clf = RandomForestClassifier(n_estimators=100, max_depth=40)\n",
    "clf = clf.fit(X, Y)"
   ]
  },
  {
   "cell_type": "code",
   "execution_count": 58,
   "metadata": {},
   "outputs": [
    {
     "data": {
      "text/plain": [
       "0.9358638743455497"
      ]
     },
     "execution_count": 58,
     "metadata": {},
     "output_type": "execute_result"
    }
   ],
   "source": [
    "clf.score(test.drop(columns=\"target\"), test[\"target\"])"
   ]
  },
  {
   "cell_type": "markdown",
   "metadata": {},
   "source": [
    "# Hyper parameter estimation"
   ]
  },
  {
   "cell_type": "code",
   "execution_count": 88,
   "metadata": {},
   "outputs": [
    {
     "data": {
      "text/plain": [
       "array([ 50,  60,  70,  80,  90, 100, 110, 120, 130, 140, 150, 160, 170,\n",
       "       180, 190, 200, 210, 220, 230, 240, 250, 260, 270, 280, 290, 300,\n",
       "       310, 320, 330, 340, 350, 360, 370, 380, 390])"
      ]
     },
     "execution_count": 88,
     "metadata": {},
     "output_type": "execute_result"
    }
   ],
   "source": [
    "np.arange(50, 400, 10)"
   ]
  },
  {
   "cell_type": "code",
   "execution_count": null,
   "metadata": {},
   "outputs": [],
   "source": []
  },
  {
   "cell_type": "code",
   "execution_count": 101,
   "metadata": {},
   "outputs": [],
   "source": [
    "if current_best_params:\n",
    "  param_grid = [\n",
    "  {'n_estimators': np.arange(current_best_params[\"n_estimators\"]-5, current_best_params[\"n_estimators\"]+5, 1), 'max_depth': np.arange(current_best_params[\"max_depth\"]-5, current_best_params[\"max_depth\"]+5, 1)},\n",
    " ]\n",
    "else: \n",
    "  param_grid = [\n",
    "    {'n_estimators': np.arange(50, 400, 10), 'max_depth': np.arange(5, 80, 5)},\n",
    "  ]"
   ]
  },
  {
   "cell_type": "code",
   "execution_count": 102,
   "metadata": {},
   "outputs": [],
   "source": [
    "grid = GridSearchCV(RandomForestClassifier(), param_grid, refit = True, verbose = 3,n_jobs=-1) "
   ]
  },
  {
   "cell_type": "code",
   "execution_count": null,
   "metadata": {},
   "outputs": [],
   "source": []
  },
  {
   "cell_type": "code",
   "execution_count": 103,
   "metadata": {},
   "outputs": [],
   "source": [
    "X_train = train.drop(columns=\"target\")\n",
    "Y_train = train[\"target\"]"
   ]
  },
  {
   "cell_type": "code",
   "execution_count": 104,
   "metadata": {},
   "outputs": [],
   "source": [
    "X_test = test.drop(columns=\"target\")\n",
    "Y_test = test[\"target\"]"
   ]
  },
  {
   "cell_type": "code",
   "execution_count": 105,
   "metadata": {},
   "outputs": [
    {
     "name": "stdout",
     "output_type": "stream",
     "text": [
      "Fitting 5 folds for each of 100 candidates, totalling 500 fits\n"
     ]
    },
    {
     "data": {
      "text/html": [
       "<style>#sk-container-id-4 {color: black;background-color: white;}#sk-container-id-4 pre{padding: 0;}#sk-container-id-4 div.sk-toggleable {background-color: white;}#sk-container-id-4 label.sk-toggleable__label {cursor: pointer;display: block;width: 100%;margin-bottom: 0;padding: 0.3em;box-sizing: border-box;text-align: center;}#sk-container-id-4 label.sk-toggleable__label-arrow:before {content: \"▸\";float: left;margin-right: 0.25em;color: #696969;}#sk-container-id-4 label.sk-toggleable__label-arrow:hover:before {color: black;}#sk-container-id-4 div.sk-estimator:hover label.sk-toggleable__label-arrow:before {color: black;}#sk-container-id-4 div.sk-toggleable__content {max-height: 0;max-width: 0;overflow: hidden;text-align: left;background-color: #f0f8ff;}#sk-container-id-4 div.sk-toggleable__content pre {margin: 0.2em;color: black;border-radius: 0.25em;background-color: #f0f8ff;}#sk-container-id-4 input.sk-toggleable__control:checked~div.sk-toggleable__content {max-height: 200px;max-width: 100%;overflow: auto;}#sk-container-id-4 input.sk-toggleable__control:checked~label.sk-toggleable__label-arrow:before {content: \"▾\";}#sk-container-id-4 div.sk-estimator input.sk-toggleable__control:checked~label.sk-toggleable__label {background-color: #d4ebff;}#sk-container-id-4 div.sk-label input.sk-toggleable__control:checked~label.sk-toggleable__label {background-color: #d4ebff;}#sk-container-id-4 input.sk-hidden--visually {border: 0;clip: rect(1px 1px 1px 1px);clip: rect(1px, 1px, 1px, 1px);height: 1px;margin: -1px;overflow: hidden;padding: 0;position: absolute;width: 1px;}#sk-container-id-4 div.sk-estimator {font-family: monospace;background-color: #f0f8ff;border: 1px dotted black;border-radius: 0.25em;box-sizing: border-box;margin-bottom: 0.5em;}#sk-container-id-4 div.sk-estimator:hover {background-color: #d4ebff;}#sk-container-id-4 div.sk-parallel-item::after {content: \"\";width: 100%;border-bottom: 1px solid gray;flex-grow: 1;}#sk-container-id-4 div.sk-label:hover label.sk-toggleable__label {background-color: #d4ebff;}#sk-container-id-4 div.sk-serial::before {content: \"\";position: absolute;border-left: 1px solid gray;box-sizing: border-box;top: 0;bottom: 0;left: 50%;z-index: 0;}#sk-container-id-4 div.sk-serial {display: flex;flex-direction: column;align-items: center;background-color: white;padding-right: 0.2em;padding-left: 0.2em;position: relative;}#sk-container-id-4 div.sk-item {position: relative;z-index: 1;}#sk-container-id-4 div.sk-parallel {display: flex;align-items: stretch;justify-content: center;background-color: white;position: relative;}#sk-container-id-4 div.sk-item::before, #sk-container-id-4 div.sk-parallel-item::before {content: \"\";position: absolute;border-left: 1px solid gray;box-sizing: border-box;top: 0;bottom: 0;left: 50%;z-index: -1;}#sk-container-id-4 div.sk-parallel-item {display: flex;flex-direction: column;z-index: 1;position: relative;background-color: white;}#sk-container-id-4 div.sk-parallel-item:first-child::after {align-self: flex-end;width: 50%;}#sk-container-id-4 div.sk-parallel-item:last-child::after {align-self: flex-start;width: 50%;}#sk-container-id-4 div.sk-parallel-item:only-child::after {width: 0;}#sk-container-id-4 div.sk-dashed-wrapped {border: 1px dashed gray;margin: 0 0.4em 0.5em 0.4em;box-sizing: border-box;padding-bottom: 0.4em;background-color: white;}#sk-container-id-4 div.sk-label label {font-family: monospace;font-weight: bold;display: inline-block;line-height: 1.2em;}#sk-container-id-4 div.sk-label-container {text-align: center;}#sk-container-id-4 div.sk-container {/* jupyter's `normalize.less` sets `[hidden] { display: none; }` but bootstrap.min.css set `[hidden] { display: none !important; }` so we also need the `!important` here to be able to override the default hidden behavior on the sphinx rendered scikit-learn.org. See: https://github.com/scikit-learn/scikit-learn/issues/21755 */display: inline-block !important;position: relative;}#sk-container-id-4 div.sk-text-repr-fallback {display: none;}</style><div id=\"sk-container-id-4\" class=\"sk-top-container\"><div class=\"sk-text-repr-fallback\"><pre>GridSearchCV(estimator=RandomForestClassifier(), n_jobs=-1,\n",
       "             param_grid=[{&#x27;max_depth&#x27;: array([40, 41, 42, 43, 44, 45, 46, 47, 48, 49]),\n",
       "                          &#x27;n_estimators&#x27;: array([315, 316, 317, 318, 319, 320, 321, 322, 323, 324])}],\n",
       "             verbose=3)</pre><b>In a Jupyter environment, please rerun this cell to show the HTML representation or trust the notebook. <br />On GitHub, the HTML representation is unable to render, please try loading this page with nbviewer.org.</b></div><div class=\"sk-container\" hidden><div class=\"sk-item sk-dashed-wrapped\"><div class=\"sk-label-container\"><div class=\"sk-label sk-toggleable\"><input class=\"sk-toggleable__control sk-hidden--visually\" id=\"sk-estimator-id-10\" type=\"checkbox\" ><label for=\"sk-estimator-id-10\" class=\"sk-toggleable__label sk-toggleable__label-arrow\">GridSearchCV</label><div class=\"sk-toggleable__content\"><pre>GridSearchCV(estimator=RandomForestClassifier(), n_jobs=-1,\n",
       "             param_grid=[{&#x27;max_depth&#x27;: array([40, 41, 42, 43, 44, 45, 46, 47, 48, 49]),\n",
       "                          &#x27;n_estimators&#x27;: array([315, 316, 317, 318, 319, 320, 321, 322, 323, 324])}],\n",
       "             verbose=3)</pre></div></div></div><div class=\"sk-parallel\"><div class=\"sk-parallel-item\"><div class=\"sk-item\"><div class=\"sk-label-container\"><div class=\"sk-label sk-toggleable\"><input class=\"sk-toggleable__control sk-hidden--visually\" id=\"sk-estimator-id-11\" type=\"checkbox\" ><label for=\"sk-estimator-id-11\" class=\"sk-toggleable__label sk-toggleable__label-arrow\">estimator: RandomForestClassifier</label><div class=\"sk-toggleable__content\"><pre>RandomForestClassifier()</pre></div></div></div><div class=\"sk-serial\"><div class=\"sk-item\"><div class=\"sk-estimator sk-toggleable\"><input class=\"sk-toggleable__control sk-hidden--visually\" id=\"sk-estimator-id-12\" type=\"checkbox\" ><label for=\"sk-estimator-id-12\" class=\"sk-toggleable__label sk-toggleable__label-arrow\">RandomForestClassifier</label><div class=\"sk-toggleable__content\"><pre>RandomForestClassifier()</pre></div></div></div></div></div></div></div></div></div></div>"
      ],
      "text/plain": [
       "GridSearchCV(estimator=RandomForestClassifier(), n_jobs=-1,\n",
       "             param_grid=[{'max_depth': array([40, 41, 42, 43, 44, 45, 46, 47, 48, 49]),\n",
       "                          'n_estimators': array([315, 316, 317, 318, 319, 320, 321, 322, 323, 324])}],\n",
       "             verbose=3)"
      ]
     },
     "execution_count": 105,
     "metadata": {},
     "output_type": "execute_result"
    }
   ],
   "source": [
    "# fitting the model for grid search \n",
    "grid.fit(X_train, Y_train) "
   ]
  },
  {
   "cell_type": "code",
   "execution_count": 106,
   "metadata": {},
   "outputs": [
    {
     "name": "stdout",
     "output_type": "stream",
     "text": [
      "{'max_depth': 43, 'n_estimators': 320}\n",
      "              precision    recall  f1-score   support\n",
      "\n",
      "           0       0.92      0.98      0.95       973\n",
      "           1       0.96      0.86      0.90       555\n",
      "\n",
      "    accuracy                           0.93      1528\n",
      "   macro avg       0.94      0.92      0.93      1528\n",
      "weighted avg       0.94      0.93      0.93      1528\n",
      "\n"
     ]
    }
   ],
   "source": [
    "# print best parameter after tuning \n",
    "print(grid.best_params_) \n",
    "current_best_params = grid.best_params_\n",
    "grid_predictions = grid.predict(X_test) \n",
    "\n",
    "# print classification report \n",
    "print(classification_report(Y_test, grid_predictions)) "
   ]
  },
  {
   "cell_type": "code",
   "execution_count": null,
   "metadata": {},
   "outputs": [],
   "source": []
  }
 ],
 "metadata": {
  "kernelspec": {
   "display_name": "Python 3.10.6 ('ml')",
   "language": "python",
   "name": "python3"
  },
  "language_info": {
   "codemirror_mode": {
    "name": "ipython",
    "version": 3
   },
   "file_extension": ".py",
   "mimetype": "text/x-python",
   "name": "python",
   "nbconvert_exporter": "python",
   "pygments_lexer": "ipython3",
   "version": "3.10.6"
  },
  "orig_nbformat": 4,
  "vscode": {
   "interpreter": {
    "hash": "a976307fc80a44cf22a4936f5a7df9fa98f37fcee6a4ae7bae4074a33156469b"
   }
  }
 },
 "nbformat": 4,
 "nbformat_minor": 2
}
